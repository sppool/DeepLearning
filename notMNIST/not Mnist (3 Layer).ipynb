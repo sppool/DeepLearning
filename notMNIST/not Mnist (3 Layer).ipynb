{
 "cells": [
  {
   "cell_type": "code",
   "execution_count": 1,
   "metadata": {},
   "outputs": [],
   "source": [
    "import numpy as np\n",
    "import tensorflow as tf\n",
    "import pickle\n",
    "%matplotlib inline\n",
    "\n",
    "from PIL import Image\n",
    "def img_show(img):\n",
    "    return Image.fromarray(np.uint8(img*255))\n",
    "\n",
    "with open('new_notMNIST.pickle', 'rb') as file:\n",
    "    (x_train, t_train), (x_valid, t_valid), (x_test,t_test) = pickle.load(file)"
   ]
  },
  {
   "cell_type": "code",
   "execution_count": 2,
   "metadata": {},
   "outputs": [],
   "source": [
    "def create_layer(inputs, in_size, out_size, n_layer, activation_function=None):\n",
    "    layer_name = 'layer' + n_layer\n",
    "    # W & b 初始化條件 init\n",
    "    W_init = tf.random_normal_initializer(stddev=(2.0/in_size)**0.5)\n",
    "    b_init = tf.zeros_initializer()\n",
    "    # W & b 變數設定\n",
    "    Weights = tf.get_variable(name=layer_name+'_W', shape=[in_size, out_size], initializer=W_init)\n",
    "    tf.summary.histogram('weights', Weights) # 紀錄資料\n",
    "    biases = tf.get_variable(name=layer_name+'_b', shape=[out_size], initializer=b_init)\n",
    "    tf.summary.histogram('biases', biases) # 紀錄資料\n",
    "    Wx_plus_b = tf.add(tf.matmul(inputs, Weights), biases)\n",
    "    # 激活函數設定\n",
    "    if activation_function is None:\n",
    "        outputs = Wx_plus_b\n",
    "    else:\n",
    "        outputs = activation_function(Wx_plus_b)\n",
    "    tf.summary.histogram('outputs', outputs)\n",
    "    \n",
    "    return outputs"
   ]
  },
  {
   "cell_type": "code",
   "execution_count": 3,
   "metadata": {},
   "outputs": [],
   "source": [
    "with tf.name_scope('inputs'):\n",
    "    xs = tf.placeholder(tf.float32, [None, 784], name='x_input')\n",
    "    ts = tf.placeholder(tf.float32, [None, 10], name='t_input')\n",
    "    keep_prob = tf.placeholder(tf.float32)\n",
    "    \n",
    "with tf.variable_scope('layerA'):\n",
    "    layerAA = create_layer(xs, 784, 256, n_layer='A', activation_function=tf.nn.relu)\n",
    "    layerA = tf.nn.dropout(layerAA, keep_prob=0.7)\n",
    "    \n",
    "with tf.variable_scope('layerB'):\n",
    "    layerBB = create_layer(layerA, 256, 128, n_layer='B', activation_function=tf.nn.relu)\n",
    "    layerB = tf.nn.dropout(layerBB, keep_prob=0.7)\n",
    "    \n",
    "with tf.variable_scope('layerC'):\n",
    "    layerC = create_layer(layerB, 128, 10, n_layer='C', activation_function=tf.nn.relu)\n",
    "    \n",
    "y = tf.nn.softmax(layerC)\n",
    "\n",
    "# cross entropy\n",
    "with tf.name_scope('loss'):\n",
    "    loss = -tf.reduce_mean(tf.reduce_sum((ts * tf.log(tf.clip_by_value(y, 1e-16, 1))), axis=1)) # 輸入為 batch 使用平均值 mean\n",
    "    tf.summary.scalar('loss', loss) # 紀錄資料\n",
    "\n",
    "#train_way = tf.train.GradientDescentOptimizer(learning_rate=0.01) # Acc :   (learning_rate=0.01\n",
    "train_way = tf.train.MomentumOptimizer(learning_rate=0.01, momentum=0.92) # Acc : 0.9493  (learning_rate=0.01, momentum=0.92)\n",
    "\n",
    "with tf.name_scope('train'):\n",
    "    train_step = train_way.minimize(loss)\n",
    "\n",
    "with tf.name_scope('accuracy'):\n",
    "    # tf.cast() 改變資料型態 np.astype change dtype\n",
    "    acc = tf.cast(tf.equal(tf.argmax(y, axis=1), tf.argmax(ts, axis=1)), tf.float32)\n",
    "    accuracy = tf.reduce_mean(acc, name='accuracy')\n",
    "    tf.summary.scalar('accuracy', accuracy) # 紀錄資料"
   ]
  },
  {
   "cell_type": "code",
   "execution_count": 4,
   "metadata": {},
   "outputs": [],
   "source": [
    "sess = tf.Session()\n",
    "merged = tf.summary.merge_all() # 所以紀錄資料設定\n",
    "writer = tf.summary.FileWriter(\"logs/\", sess.graph) # 紀錄圖形\n",
    "sess.run(tf.global_variables_initializer()) # 變數初始化"
   ]
  },
  {
   "cell_type": "code",
   "execution_count": 5,
   "metadata": {},
   "outputs": [
    {
     "name": "stdout",
     "output_type": "stream",
     "text": [
      "  0  train:0.8467  test:0.9097\n",
      "  1  train:0.8600  test:0.9205\n",
      "  2  train:0.8704  test:0.9288\n",
      "  3  train:0.8736  test:0.9270\n",
      "  4  train:0.8814  test:0.9353\n",
      "  5  train:0.8835  test:0.9360\n",
      "  6  train:0.8840  test:0.9331\n",
      "  7  train:0.8867  test:0.9356\n",
      "  8  train:0.8899  test:0.9390\n",
      "  9  train:0.8925  test:0.9398\n",
      " 10  train:0.8950  test:0.9424\n",
      " 11  train:0.8953  test:0.9408\n",
      " 12  train:0.8972  test:0.9451\n",
      " 13  train:0.8976  test:0.9409\n",
      " 14  train:0.8982  test:0.9417\n",
      " 15  train:0.8994  test:0.9407\n",
      " 16  train:0.9016  test:0.9448\n",
      " 17  train:0.9020  test:0.9442\n",
      " 18  train:0.9020  test:0.9426\n",
      " 19  train:0.9052  test:0.9431\n",
      " 20  train:0.9054  test:0.9440\n",
      " 21  train:0.9074  test:0.9443\n",
      " 22  train:0.9078  test:0.9471\n",
      " 23  train:0.9079  test:0.9465\n",
      " 24  train:0.9090  test:0.9453\n",
      " 25  train:0.9102  test:0.9455\n",
      " 26  train:0.9107  test:0.9475\n",
      " 27  train:0.9102  test:0.9465\n",
      " 28  train:0.9110  test:0.9454\n",
      " 29  train:0.9111  test:0.9493\n"
     ]
    }
   ],
   "source": [
    "data_num = x_train.shape[0]\n",
    "batch = 100\n",
    "lst = np.arange(data_num)\n",
    "feed_all = {xs: x_train, ts: t_train}\n",
    "for i_ in range(30):\n",
    "    # 隨機打亂資料排序\n",
    "    np.random.shuffle(lst)\n",
    "    x_train = x_train[lst]\n",
    "    t_train = t_train[lst]\n",
    "   \n",
    "    for i in range(0, data_num, batch):  # 每 bench 100個資料\n",
    "        feed_data = {xs: x_train[i:i + batch], ts: t_train[i:i + batch]}\n",
    "        sess.run(train_step, feed_dict=feed_data)\n",
    "        \n",
    "    result = sess.run(merged, feed_dict=feed_all) # 寫入紀錄\n",
    "    writer.add_summary(result, i_)\n",
    "    \n",
    "    # Accuracy test data\n",
    "    acc_test = sess.run(accuracy, feed_dict={xs: x_test, ts: t_test})\n",
    "    acc_train = sess.run(accuracy, feed_dict=feed_all)\n",
    "    print('%3d  train:%.4f  test:%.4f'%(i_, acc_train, acc_test))\n",
    " "
   ]
  },
  {
   "cell_type": "code",
   "execution_count": 75,
   "metadata": {},
   "outputs": [],
   "source": [
    "sess.close()\n",
    "\n",
    "# in win10 open powershell key:  tensorboard --logdir=\"logs\" "
   ]
  },
  {
   "cell_type": "code",
   "execution_count": 40,
   "metadata": {},
   "outputs": [],
   "source": [
    "n = 20\n",
    "s = 1000\n",
    "layA, layB, layC, a = sess.run([layerAA, layerBB, layerC, layerA], feed_dict={xs: arr})\n",
    "#layA, layB, layC, a = sess.run([layerAA, layerBB, layerC, layerA], feed_dict={xs: x_train[s:s+n**2]})"
   ]
  },
  {
   "cell_type": "code",
   "execution_count": 41,
   "metadata": {},
   "outputs": [
    {
     "name": "stdout",
     "output_type": "stream",
     "text": [
      "layA max: 4.972915\n",
      "layA min: 0.0\n",
      "layA mean: 0.063498534\n",
      "layA std: 0.4198234\n",
      "layB max: 1.6967511\n",
      "layB min: 0.0\n",
      "layB mean: 0.21215908\n",
      "layB std: 0.32512122\n",
      "layC max: 1.6967511\n",
      "layC min: 0.0\n",
      "layC mean: 0.21215908\n",
      "layC std: 0.32512122\n"
     ]
    }
   ],
   "source": [
    "print('layA max:', layA.max())\n",
    "print('layA min:', layA.min())\n",
    "print('layA mean:', layA.mean())\n",
    "print('layA std:', layA.std())\n",
    "print('layB max:', layB.max())\n",
    "print('layB min:', layB.min())\n",
    "print('layB mean:', layB.mean())\n",
    "print('layB std:', layB.std())\n",
    "print('layC max:', layB.max())\n",
    "print('layC min:', layB.min())\n",
    "print('layC mean:', layB.mean())\n",
    "print('layC std:', layB.std())"
   ]
  }
 ],
 "metadata": {
  "kernelspec": {
   "display_name": "Python 3",
   "language": "python",
   "name": "python3"
  },
  "language_info": {
   "codemirror_mode": {
    "name": "ipython",
    "version": 3
   },
   "file_extension": ".py",
   "mimetype": "text/x-python",
   "name": "python",
   "nbconvert_exporter": "python",
   "pygments_lexer": "ipython3",
   "version": "3.6.6"
  }
 },
 "nbformat": 4,
 "nbformat_minor": 2
}
